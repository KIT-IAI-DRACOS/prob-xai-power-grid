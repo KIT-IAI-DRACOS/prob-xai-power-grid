{
 "cells": [
  {
   "cell_type": "code",
   "execution_count": 1,
   "metadata": {},
   "outputs": [],
   "source": [
    "import os\n",
    "import pandas as pd\n",
    "from typing import NamedTuple, List\n",
    "from sklearn.preprocessing import StandardScaler, MinMaxScaler, PowerTransformer"
   ]
  },
  {
   "cell_type": "code",
   "execution_count": 2,
   "metadata": {},
   "outputs": [],
   "source": [
    "class Config(NamedTuple):\n",
    "    data_version: str = \"2024-05-19\"\n",
    "    #res_version: str = \"2024-06-24\"\n",
    "    model_type: str = \"_full\"\n",
    "    model_combination: str = \"ngb\"\n",
    "    scaler_str: str = \"yeo_johnson\"\n",
    "\n",
    "config = Config()\n",
    "\n",
    "targets = [\"f_rocof\", \"f_ext\", \"f_msd\", \"f_integral\"]\n",
    "target_names = [\"RoCoF\", \"Nadir\", \"MSD\", \"Integral\"]\n",
    "areas = [\"CE\", \"Nordic\"]\n",
    "area_names = [\"Continental Europe\", \"Nordic\"]\n",
    "area_colors = [\"C0\", \"C1\"]"
   ]
  },
  {
   "cell_type": "code",
   "execution_count": 4,
   "metadata": {},
   "outputs": [
    {
     "name": "stdout",
     "output_type": "stream",
     "text": [
      "----------------------------  Nordic  ------------------------------------\n",
      "../data/2020-2024/Nordic/version_2024-05-19/yeo_johnson/\n"
     ]
    }
   ],
   "source": [
    "for area in [\"Nordic\"]:\n",
    "    print(\n",
    "        \"---------------------------- \", area, \" ------------------------------------\"\n",
    "    )\n",
    "    data_folder = f\"../data/2020-2024/{area}/version_{config.data_version}/\"\n",
    "    norm_data_folder = data_folder + config.scaler_str + \"/\"\n",
    "    if not os.path.exists(norm_data_folder):\n",
    "        os.makedirs(norm_data_folder)\n",
    "    print(norm_data_folder)\n",
    "    # Load data\n",
    "    y_train = pd.read_hdf(data_folder + \"y_train.h5\")\n",
    "    y_test = pd.read_hdf(data_folder + \"y_test.h5\")\n",
    "    y_pred = pd.read_hdf(data_folder + \"y_pred.h5\")\n",
    "    X_train = pd.read_hdf(data_folder + \"X_train_full.h5\")\n",
    "    X_test = pd.read_hdf(data_folder + \"X_test_full.h5\")\n",
    "\n",
    "    scaler_X = PowerTransformer(\"yeo-johnson\")\n",
    "    scaler_y = PowerTransformer(\"yeo-johnson\")\n",
    "    X_train_scaled = scaler_X.fit_transform(X_train)\n",
    "    X_test_scaled = scaler_X.transform(X_test)\n",
    "\n",
    "    y_train_scaled = scaler_y.fit_transform(y_train)\n",
    "    y_test_scaled = scaler_y.transform(y_test)\n",
    "\n",
    "    # Convert back to DataFrame\n",
    "    X_train_scaled_df = pd.DataFrame(\n",
    "        X_train_scaled, columns=X_train.columns, index=X_train.index\n",
    "    )\n",
    "    X_test_scaled_df = pd.DataFrame(\n",
    "        X_test_scaled, columns=X_test.columns, index=X_test.index\n",
    "    )\n",
    "    y_train_scaled_df = pd.DataFrame(\n",
    "        y_train_scaled, columns=y_train.columns, index=y_train.index\n",
    "    )\n",
    "    y_test_scaled_df = pd.DataFrame(\n",
    "        y_test_scaled, columns=y_test.columns, index=y_test.index\n",
    "    )\n",
    "\n",
    "    # Save the scaled data back to HDF5 files\n",
    "    X_train_scaled_df.to_hdf(\n",
    "        norm_data_folder + \"X_train_full_scaled.h5\", key=\"X_train_scaled\", mode=\"w\"\n",
    "    )\n",
    "    X_test_scaled_df.to_hdf(\n",
    "        norm_data_folder + \"X_test_full_scaled.h5\", key=\"X_test_scaled\", mode=\"w\"\n",
    "    )\n",
    "    y_train_scaled_df.to_hdf(\n",
    "        norm_data_folder + \"y_train_scaled.h5\", key=\"y_train_scaled\", mode=\"w\"\n",
    "    )\n",
    "    y_test_scaled_df.to_hdf(\n",
    "        norm_data_folder + \"y_test_scaled.h5\", key=\"y_test_scaled\", mode=\"w\"\n",
    "    )\n",
    "    y_pred.to_hdf(norm_data_folder + \"y_pred.h5\", key=\"y_pred\", mode=\"w\")\n",
    "    "
   ]
  },
  {
   "cell_type": "code",
   "execution_count": 11,
   "metadata": {},
   "outputs": [],
   "source": [
    "import joblib\n",
    "from sklearn.preprocessing import PowerTransformer\n",
    "\n",
    "for area in [\"CE\", \"Nordic\"]:\n",
    "    data_folder = f\"../data/2020-2024/{area}/version_{config.data_version}/\"\n",
    "    norm_data_folder = data_folder + config.scaler_str + \"/\"\n",
    "    if not os.path.exists(norm_data_folder):\n",
    "        os.makedirs(norm_data_folder)\n",
    "    scaler_folder = norm_data_folder  + \"scalers\" + \"/\"\n",
    "    if not os.path.exists(scaler_folder):\n",
    "        os.makedirs(scaler_folder)\n",
    "    # Load data \n",
    "    y_train = pd.read_hdf(data_folder + \"y_train.h5\")\n",
    "    y_test = pd.read_hdf(data_folder + \"y_test.h5\")\n",
    "    #y_pred = pd.read_hdf(data_folder + \"y_pred.h5\")\n",
    "    \n",
    "    X_train = pd.read_hdf(data_folder + \"X_train_full.h5\")\n",
    "    X_test = pd.read_hdf(data_folder + \"X_test_full.h5\")\n",
    "\n",
    "\n",
    "    scaler_X = PowerTransformer(\"yeo-johnson\")\n",
    "    scaler_X.fit(X_train)  \n",
    "    for tar in targets:\n",
    "        scaler_y = PowerTransformer(\"yeo-johnson\")\n",
    "        scaler_y.fit(y_train[[tar]])  \n",
    "        joblib.dump(scaler_y, scaler_folder + f\"scaler_y_{tar}.pkl\")\n",
    "    \n",
    "    joblib.dump(scaler_X, scaler_folder + f\"scaler_X.pkl\")\n"
   ]
  },
  {
   "cell_type": "code",
   "execution_count": null,
   "metadata": {},
   "outputs": [],
   "source": []
  }
 ],
 "metadata": {
  "kernelspec": {
   "display_name": ".venv",
   "language": "python",
   "name": "python3"
  },
  "language_info": {
   "codemirror_mode": {
    "name": "ipython",
    "version": 3
   },
   "file_extension": ".py",
   "mimetype": "text/x-python",
   "name": "python",
   "nbconvert_exporter": "python",
   "pygments_lexer": "ipython3",
   "version": "3.11.0"
  }
 },
 "nbformat": 4,
 "nbformat_minor": 2
}
